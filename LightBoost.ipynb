{
 "cells": [
  {
   "cell_type": "code",
   "execution_count": 120,
   "id": "56c217b2-e895-4311-8e01-46374862b8df",
   "metadata": {},
   "outputs": [],
   "source": [
    "import numpy as np\n",
    "import pandas as pd\n",
    "from sklearn.metrics import confusion_matrix, accuracy_score, classification_report\n",
    "from sklearn.model_selection import train_test_split\n",
    "from sklearn.tree import DecisionTreeClassifier\n",
    "import matplotlib.pyplot as plt\n",
    "from sklearn.metrics import roc_auc_score, roc_curve\n",
    "import matplotlib.pyplot as plt\n",
    "from sklearn.impute import KNNImputer\n",
    "from sklearn.impute import SimpleImputer\n",
    "from sklearn.ensemble import RandomForestClassifier\n",
    "from sklearn.feature_selection import VarianceThreshold\n",
    "from sklearn.preprocessing import StandardScaler\n",
    "from sklearn.decomposition import PCA\n",
    "import xgboost as xgb\n",
    "from xgboost import XGBClassifier\n",
    "from sklearn.ensemble import BaggingClassifier\n",
    "from sklearn.preprocessing import MinMaxScaler\n",
    "import lightgbm as lgb"
   ]
  },
  {
   "cell_type": "code",
   "execution_count": 121,
   "id": "ca7505dc-04e8-4148-8298-1349ecb7551a",
   "metadata": {},
   "outputs": [
    {
     "data": {
      "text/html": [
       "<div>\n",
       "<style scoped>\n",
       "    .dataframe tbody tr th:only-of-type {\n",
       "        vertical-align: middle;\n",
       "    }\n",
       "\n",
       "    .dataframe tbody tr th {\n",
       "        vertical-align: top;\n",
       "    }\n",
       "\n",
       "    .dataframe thead th {\n",
       "        text-align: right;\n",
       "    }\n",
       "</style>\n",
       "<table border=\"1\" class=\"dataframe\">\n",
       "  <thead>\n",
       "    <tr style=\"text-align: right;\">\n",
       "      <th></th>\n",
       "      <th>RecordId</th>\n",
       "      <th>X2</th>\n",
       "      <th>X3</th>\n",
       "      <th>X4</th>\n",
       "      <th>X5</th>\n",
       "      <th>X6</th>\n",
       "      <th>X7</th>\n",
       "      <th>X8</th>\n",
       "      <th>X9</th>\n",
       "      <th>X10</th>\n",
       "      <th>...</th>\n",
       "      <th>X70</th>\n",
       "      <th>X71</th>\n",
       "      <th>X72</th>\n",
       "      <th>X73</th>\n",
       "      <th>X74</th>\n",
       "      <th>X75</th>\n",
       "      <th>X76</th>\n",
       "      <th>X77</th>\n",
       "      <th>X78</th>\n",
       "      <th>Y</th>\n",
       "    </tr>\n",
       "  </thead>\n",
       "  <tbody>\n",
       "    <tr>\n",
       "      <th>0</th>\n",
       "      <td>1</td>\n",
       "      <td>87.000000</td>\n",
       "      <td>34.118411</td>\n",
       "      <td>0</td>\n",
       "      <td>2</td>\n",
       "      <td>0</td>\n",
       "      <td>165.100000</td>\n",
       "      <td>1</td>\n",
       "      <td>829</td>\n",
       "      <td>2</td>\n",
       "      <td>...</td>\n",
       "      <td>0.040000</td>\n",
       "      <td>0.0</td>\n",
       "      <td>0.0</td>\n",
       "      <td>0.0</td>\n",
       "      <td>0.0</td>\n",
       "      <td>0.0</td>\n",
       "      <td>0.0</td>\n",
       "      <td>0.0</td>\n",
       "      <td>0.0</td>\n",
       "      <td>0</td>\n",
       "    </tr>\n",
       "    <tr>\n",
       "      <th>1</th>\n",
       "      <td>2</td>\n",
       "      <td>82.372284</td>\n",
       "      <td>31.573280</td>\n",
       "      <td>0</td>\n",
       "      <td>0</td>\n",
       "      <td>1</td>\n",
       "      <td>162.983897</td>\n",
       "      <td>1</td>\n",
       "      <td>724</td>\n",
       "      <td>0</td>\n",
       "      <td>...</td>\n",
       "      <td>0.033431</td>\n",
       "      <td>0.0</td>\n",
       "      <td>0.0</td>\n",
       "      <td>0.0</td>\n",
       "      <td>0.0</td>\n",
       "      <td>0.0</td>\n",
       "      <td>0.0</td>\n",
       "      <td>0.0</td>\n",
       "      <td>0.0</td>\n",
       "      <td>0</td>\n",
       "    </tr>\n",
       "    <tr>\n",
       "      <th>2</th>\n",
       "      <td>3</td>\n",
       "      <td>50.000000</td>\n",
       "      <td>27.771653</td>\n",
       "      <td>0</td>\n",
       "      <td>0</td>\n",
       "      <td>1</td>\n",
       "      <td>165.100000</td>\n",
       "      <td>1</td>\n",
       "      <td>895</td>\n",
       "      <td>2</td>\n",
       "      <td>...</td>\n",
       "      <td>0.010000</td>\n",
       "      <td>0.0</td>\n",
       "      <td>0.0</td>\n",
       "      <td>0.0</td>\n",
       "      <td>0.0</td>\n",
       "      <td>0.0</td>\n",
       "      <td>0.0</td>\n",
       "      <td>0.0</td>\n",
       "      <td>0.0</td>\n",
       "      <td>0</td>\n",
       "    </tr>\n",
       "    <tr>\n",
       "      <th>3</th>\n",
       "      <td>4</td>\n",
       "      <td>66.236109</td>\n",
       "      <td>26.515922</td>\n",
       "      <td>0</td>\n",
       "      <td>0</td>\n",
       "      <td>1</td>\n",
       "      <td>167.009549</td>\n",
       "      <td>1</td>\n",
       "      <td>637</td>\n",
       "      <td>0</td>\n",
       "      <td>...</td>\n",
       "      <td>0.039363</td>\n",
       "      <td>0.0</td>\n",
       "      <td>0.0</td>\n",
       "      <td>0.0</td>\n",
       "      <td>0.0</td>\n",
       "      <td>0.0</td>\n",
       "      <td>0.0</td>\n",
       "      <td>0.0</td>\n",
       "      <td>0.0</td>\n",
       "      <td>0</td>\n",
       "    </tr>\n",
       "    <tr>\n",
       "      <th>4</th>\n",
       "      <td>5</td>\n",
       "      <td>81.303299</td>\n",
       "      <td>20.843691</td>\n",
       "      <td>0</td>\n",
       "      <td>0</td>\n",
       "      <td>1</td>\n",
       "      <td>158.165419</td>\n",
       "      <td>0</td>\n",
       "      <td>564</td>\n",
       "      <td>0</td>\n",
       "      <td>...</td>\n",
       "      <td>0.069242</td>\n",
       "      <td>0.0</td>\n",
       "      <td>0.0</td>\n",
       "      <td>0.0</td>\n",
       "      <td>0.0</td>\n",
       "      <td>0.0</td>\n",
       "      <td>0.0</td>\n",
       "      <td>0.0</td>\n",
       "      <td>0.0</td>\n",
       "      <td>0</td>\n",
       "    </tr>\n",
       "  </tbody>\n",
       "</table>\n",
       "<p>5 rows × 79 columns</p>\n",
       "</div>"
      ],
      "text/plain": [
       "   RecordId         X2         X3  X4  X5  X6          X7  X8   X9  X10  ...  \\\n",
       "0         1  87.000000  34.118411   0   2   0  165.100000   1  829    2  ...   \n",
       "1         2  82.372284  31.573280   0   0   1  162.983897   1  724    0  ...   \n",
       "2         3  50.000000  27.771653   0   0   1  165.100000   1  895    2  ...   \n",
       "3         4  66.236109  26.515922   0   0   1  167.009549   1  637    0  ...   \n",
       "4         5  81.303299  20.843691   0   0   1  158.165419   0  564    0  ...   \n",
       "\n",
       "        X70  X71  X72  X73  X74  X75  X76  X77  X78  Y  \n",
       "0  0.040000  0.0  0.0  0.0  0.0  0.0  0.0  0.0  0.0  0  \n",
       "1  0.033431  0.0  0.0  0.0  0.0  0.0  0.0  0.0  0.0  0  \n",
       "2  0.010000  0.0  0.0  0.0  0.0  0.0  0.0  0.0  0.0  0  \n",
       "3  0.039363  0.0  0.0  0.0  0.0  0.0  0.0  0.0  0.0  0  \n",
       "4  0.069242  0.0  0.0  0.0  0.0  0.0  0.0  0.0  0.0  0  \n",
       "\n",
       "[5 rows x 79 columns]"
      ]
     },
     "execution_count": 121,
     "metadata": {},
     "output_type": "execute_result"
    }
   ],
   "source": [
    "df = pd.read_csv(\"C:\\\\Users\\Ali\\\\DataScience_Projects\\\\Kaggle_Competition\\\\train_set.csv\")\n",
    "df.head()"
   ]
  },
  {
   "cell_type": "code",
   "execution_count": 122,
   "id": "f3e27269-0aea-4bba-8c5e-2f2a1c38fbc8",
   "metadata": {},
   "outputs": [],
   "source": [
    "X= df.iloc[:, 1:78]  # All columns except the last one\n",
    "y = df.iloc[:, 78]   # Only the last column"
   ]
  },
  {
   "cell_type": "code",
   "execution_count": 123,
   "id": "397e278d-705a-40cb-b951-90bb78ba5f54",
   "metadata": {},
   "outputs": [],
   "source": [
    "#selector = VarianceThreshold(0.5)\n",
    "#X = selector.fit_transform(X)\n",
    "df = df.dropna(axis=0)"
   ]
  },
  {
   "cell_type": "code",
   "execution_count": 124,
   "id": "a9f736ef-0eaa-4fff-ac07-6e6ee8789c0d",
   "metadata": {},
   "outputs": [],
   "source": [
    "#scaled_data = SimpleImputer(strategy='mean')\n",
    "#X = scaled_data.fit_transform(X)\n",
    "#X = pd.DataFrame(X)\n",
    "\n",
    "#Normalize\n",
    "# Sample data\n",
    "data = df\n",
    "\n",
    "# Initialize the scaler\n",
    "scaler = MinMaxScaler()\n",
    "\n",
    "# Fit and transform the data\n",
    "df = scaler.fit_transform(data)"
   ]
  },
  {
   "cell_type": "code",
   "execution_count": 125,
   "id": "49a8ee99-354b-44e0-9838-41cfefbfad2d",
   "metadata": {},
   "outputs": [],
   "source": [
    "#standardizer = StandardScaler()\n",
    "#standardizedX = standardizer.fit_transform(X)\n",
    "#X = pd.DataFrame(standardizedX)"
   ]
  },
  {
   "cell_type": "code",
   "execution_count": 126,
   "id": "9035bc95-0bdc-4235-8dcd-4fec715b9cd7",
   "metadata": {},
   "outputs": [],
   "source": [
    "X_train, X_test, y_train, y_test = train_test_split(X, y, test_size=0.1, random_state=100, stratify=y)"
   ]
  },
  {
   "cell_type": "code",
   "execution_count": 127,
   "id": "d6e01bb4-4665-4ac3-be95-aa0c0e94d3fa",
   "metadata": {},
   "outputs": [],
   "source": [
    "train_data = lgb.Dataset(X_train, label=y_train)\n",
    "test_data = lgb.Dataset(X_test, label=y_test, reference=train_data)"
   ]
  },
  {
   "cell_type": "code",
   "execution_count": 128,
   "id": "e267c424-0875-4718-b9d5-05e1a67d7fbb",
   "metadata": {},
   "outputs": [],
   "source": [
    "params = {\n",
    "    'objective': 'binary',          # Change to 'multiclass' if multiclass classification\n",
    "    'boosting_type': 'gbdt',        # Gradient Boosting Decision Tree\n",
    "    'metric': 'binary_logloss',     # Change to 'multi_logloss' if multiclass classification\n",
    "    'learning_rate': 0.05,\n",
    "    'num_leaves': 21,\n",
    "    'max_depth': 12,\n",
    "    'seed': 42\n",
    "}"
   ]
  },
  {
   "cell_type": "code",
   "execution_count": 129,
   "id": "222d3626-cfad-48fd-9d2d-f7331e95e3d4",
   "metadata": {},
   "outputs": [
    {
     "name": "stdout",
     "output_type": "stream",
     "text": [
      "[LightGBM] [Info] Number of positive: 584, number of negative: 220925\n",
      "[LightGBM] [Info] Auto-choosing col-wise multi-threading, the overhead of testing was 0.077002 seconds.\n",
      "You can set `force_col_wise=true` to remove the overhead.\n",
      "[LightGBM] [Info] Total Bins 17722\n",
      "[LightGBM] [Info] Number of data points in the train set: 221509, number of used features: 77\n",
      "[LightGBM] [Info] [binary:BoostFromScore]: pavg=0.002636 -> initscore=-5.935678\n",
      "[LightGBM] [Info] Start training from score -5.935678\n"
     ]
    }
   ],
   "source": [
    "lgbm_model = lgb.train(params, train_data, valid_sets=[test_data])"
   ]
  },
  {
   "cell_type": "code",
   "execution_count": 130,
   "id": "dc7895b4-fdc7-4303-b8d0-7e7735718a05",
   "metadata": {},
   "outputs": [],
   "source": [
    "# Make predictions\n",
    "y_pred = lgbm_model.predict(X_test, num_iteration=lgbm_model.best_iteration)\n",
    "y_pred_class = [1 if pred > 0.5 else 0 for pred in y_pred]  # Adjust threshold if necessary"
   ]
  },
  {
   "cell_type": "code",
   "execution_count": 131,
   "id": "b3bbed17-43c2-4f8b-b122-166e901d6096",
   "metadata": {},
   "outputs": [
    {
     "name": "stdout",
     "output_type": "stream",
     "text": [
      "Accuracy: 0.9967090561898184\n",
      "Classification Report:\n",
      "               precision    recall  f1-score   support\n",
      "\n",
      "           0       1.00      1.00      1.00     24548\n",
      "           1       0.23      0.11      0.15        65\n",
      "\n",
      "    accuracy                           1.00     24613\n",
      "   macro avg       0.62      0.55      0.57     24613\n",
      "weighted avg       1.00      1.00      1.00     24613\n",
      "\n",
      "Confusion Matrix:\n",
      " [[24525    23]\n",
      " [   58     7]]\n"
     ]
    }
   ],
   "source": [
    "accuracy = accuracy_score(y_test, y_pred_class)\n",
    "print(\"Accuracy:\", accuracy)\n",
    "print(\"Classification Report:\\n\", classification_report(y_test, y_pred_class))\n",
    "print(\"Confusion Matrix:\\n\", confusion_matrix(y_test, y_pred_class))"
   ]
  },
  {
   "cell_type": "code",
   "execution_count": 132,
   "id": "39fd0fc3-7b2a-4c8c-a1fb-c6fab6084edd",
   "metadata": {},
   "outputs": [],
   "source": [
    "full_data = lgb.Dataset(X, label=y)  # Create a dataset with all data"
   ]
  },
  {
   "cell_type": "code",
   "execution_count": 133,
   "id": "b1a16301-a192-4ed8-9b9d-92bb5675f5c6",
   "metadata": {},
   "outputs": [
    {
     "name": "stdout",
     "output_type": "stream",
     "text": [
      "[LightGBM] [Info] Number of positive: 649, number of negative: 245473\n",
      "[LightGBM] [Info] Auto-choosing col-wise multi-threading, the overhead of testing was 0.068698 seconds.\n",
      "You can set `force_col_wise=true` to remove the overhead.\n",
      "[LightGBM] [Info] Total Bins 17725\n",
      "[LightGBM] [Info] Number of data points in the train set: 246122, number of used features: 77\n",
      "[LightGBM] [Info] [binary:BoostFromScore]: pavg=0.002637 -> initscore=-5.935510\n",
      "[LightGBM] [Info] Start training from score -5.935510\n"
     ]
    }
   ],
   "source": [
    "# Set the number of boosting rounds for the final model\n",
    "num_boost_round = lgbm_model.best_iteration if lgbm_model.best_iteration > 0 else 100  # Use 100 as a default if 0\n",
    "\n",
    "# Train the LightGBM model on the full data\n",
    "lgbm_final_model = lgb.train(params, full_data, num_boost_round=num_boost_round)\n"
   ]
  },
  {
   "cell_type": "code",
   "execution_count": 134,
   "id": "6fd4b6e6-c10d-4a60-abce-290250311801",
   "metadata": {},
   "outputs": [],
   "source": [
    "test_data = pd.read_csv(\"C:\\\\Users\\Ali\\\\DataScience_Projects\\\\Kaggle_Competition\\\\test_set.csv\")\n",
    "recordId = test_data['RecordId']\n",
    "test_data = test_data.drop(columns = 'RecordId')"
   ]
  },
  {
   "cell_type": "code",
   "execution_count": 135,
   "id": "f7dc9bea-0ce8-485d-bdfd-b1a2d11e8572",
   "metadata": {},
   "outputs": [],
   "source": [
    "#test_data = selector.transform(test_data)\n",
    "test_data = SimpleImputer(strategy='mean').fit_transform(test_data)\n",
    "#minMaxTest = minmaxer.fit_transform(test_data)\n",
    "#test_data = standardizer.fit_transform(test_data)\n",
    "#test_data = pd.DataFrame(test_data)\n",
    "#test_data = pca.transform(test_data)\n",
    "\n",
    "#Normalize\n",
    "# Sample data\n",
    "#data = test_data\n",
    "\n",
    "# Initialize the scaler\n",
    "#scaler = MinMaxScaler()\n",
    "\n",
    "# Fit and transform the data\n",
    "#test_data = scaler.fit_transform(data)"
   ]
  },
  {
   "cell_type": "code",
   "execution_count": 136,
   "id": "b25f4cdd-c7cc-4fb8-90e0-10fa3fcde500",
   "metadata": {},
   "outputs": [],
   "source": [
    "prediction = lgbm_final_model.predict(test_data)  # Predicts probabilities directly\n",
    "#prediction = prediction[:, 1]\n",
    "# Convert predictions to DataFrame format\n",
    "finaldf = pd.concat([recordId, pd.DataFrame(prediction, columns=['Y'])], axis=1)\n",
    "finaldf.to_csv(\"C:\\\\Users\\\\Ali\\\\DataScience_Projects\\\\Kaggle_Competition\\\\lightgbm_test_results.csv\", index=False)\n"
   ]
  },
  {
   "cell_type": "code",
   "execution_count": null,
   "id": "7d7bb9a1-fc30-4c96-8c01-b2527c6828e9",
   "metadata": {},
   "outputs": [],
   "source": []
  }
 ],
 "metadata": {
  "kernelspec": {
   "display_name": "Python 3 (ipykernel)",
   "language": "python",
   "name": "python3"
  },
  "language_info": {
   "codemirror_mode": {
    "name": "ipython",
    "version": 3
   },
   "file_extension": ".py",
   "mimetype": "text/x-python",
   "name": "python",
   "nbconvert_exporter": "python",
   "pygments_lexer": "ipython3",
   "version": "3.11.4"
  }
 },
 "nbformat": 4,
 "nbformat_minor": 5
}
